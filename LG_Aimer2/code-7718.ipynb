{
 "cells": [
  {
   "attachments": {},
   "cell_type": "markdown",
   "id": "026d69b4",
   "metadata": {},
   "source": [
    "## **패키지 설치**"
   ]
  },
  {
   "cell_type": "code",
   "execution_count": 3,
   "id": "1b815cc0",
   "metadata": {},
   "outputs": [
    {
     "name": "stdout",
     "output_type": "stream",
     "text": [
      "Requirement already satisfied: xgboost==2.0.3 in c:\\users\\kuils\\anaconda3\\envs\\env\\lib\\site-packages (2.0.3)\n",
      "Requirement already satisfied: numpy in c:\\users\\kuils\\anaconda3\\envs\\env\\lib\\site-packages (from xgboost==2.0.3) (1.26.3)\n",
      "Requirement already satisfied: scipy in c:\\users\\kuils\\anaconda3\\envs\\env\\lib\\site-packages (from xgboost==2.0.3) (1.12.0)\n",
      "Requirement already satisfied: numpy==1.26.3 in c:\\users\\kuils\\anaconda3\\envs\\env\\lib\\site-packages (1.26.3)\n",
      "Requirement already satisfied: catboost==1.2 in c:\\users\\kuils\\anaconda3\\envs\\env\\lib\\site-packages (1.2)\n",
      "Requirement already satisfied: graphviz in c:\\users\\kuils\\anaconda3\\envs\\env\\lib\\site-packages (from catboost==1.2) (0.20.1)\n",
      "Requirement already satisfied: matplotlib in c:\\users\\kuils\\anaconda3\\envs\\env\\lib\\site-packages (from catboost==1.2) (3.8.2)\n",
      "Requirement already satisfied: numpy>=1.16.0 in c:\\users\\kuils\\anaconda3\\envs\\env\\lib\\site-packages (from catboost==1.2) (1.26.3)\n",
      "Requirement already satisfied: pandas>=0.24 in c:\\users\\kuils\\anaconda3\\envs\\env\\lib\\site-packages (from catboost==1.2) (2.1.4)\n",
      "Requirement already satisfied: scipy in c:\\users\\kuils\\anaconda3\\envs\\env\\lib\\site-packages (from catboost==1.2) (1.12.0)\n",
      "Requirement already satisfied: plotly in c:\\users\\kuils\\anaconda3\\envs\\env\\lib\\site-packages (from catboost==1.2) (5.18.0)\n",
      "Requirement already satisfied: six in c:\\users\\kuils\\anaconda3\\envs\\env\\lib\\site-packages (from catboost==1.2) (1.16.0)\n",
      "Requirement already satisfied: python-dateutil>=2.8.2 in c:\\users\\kuils\\anaconda3\\envs\\env\\lib\\site-packages (from pandas>=0.24->catboost==1.2) (2.8.2)\n",
      "Requirement already satisfied: pytz>=2020.1 in c:\\users\\kuils\\anaconda3\\envs\\env\\lib\\site-packages (from pandas>=0.24->catboost==1.2) (2023.3)\n",
      "Requirement already satisfied: tzdata>=2022.1 in c:\\users\\kuils\\anaconda3\\envs\\env\\lib\\site-packages (from pandas>=0.24->catboost==1.2) (2023.3)\n",
      "Requirement already satisfied: contourpy>=1.0.1 in c:\\users\\kuils\\anaconda3\\envs\\env\\lib\\site-packages (from matplotlib->catboost==1.2) (1.2.0)\n",
      "Requirement already satisfied: cycler>=0.10 in c:\\users\\kuils\\anaconda3\\envs\\env\\lib\\site-packages (from matplotlib->catboost==1.2) (0.12.1)\n",
      "Requirement already satisfied: fonttools>=4.22.0 in c:\\users\\kuils\\anaconda3\\envs\\env\\lib\\site-packages (from matplotlib->catboost==1.2) (4.47.2)\n",
      "Requirement already satisfied: kiwisolver>=1.3.1 in c:\\users\\kuils\\anaconda3\\envs\\env\\lib\\site-packages (from matplotlib->catboost==1.2) (1.4.5)\n",
      "Requirement already satisfied: packaging>=20.0 in c:\\users\\kuils\\anaconda3\\envs\\env\\lib\\site-packages (from matplotlib->catboost==1.2) (23.1)\n",
      "Requirement already satisfied: pillow>=8 in c:\\users\\kuils\\anaconda3\\envs\\env\\lib\\site-packages (from matplotlib->catboost==1.2) (10.2.0)\n",
      "Requirement already satisfied: pyparsing>=2.3.1 in c:\\users\\kuils\\anaconda3\\envs\\env\\lib\\site-packages (from matplotlib->catboost==1.2) (3.1.1)\n",
      "Requirement already satisfied: importlib-resources>=3.2.0 in c:\\users\\kuils\\anaconda3\\envs\\env\\lib\\site-packages (from matplotlib->catboost==1.2) (6.1.1)\n",
      "Requirement already satisfied: tenacity>=6.2.0 in c:\\users\\kuils\\anaconda3\\envs\\env\\lib\\site-packages (from plotly->catboost==1.2) (8.2.3)\n",
      "Requirement already satisfied: zipp>=3.1.0 in c:\\users\\kuils\\anaconda3\\envs\\env\\lib\\site-packages (from importlib-resources>=3.2.0->matplotlib->catboost==1.2) (3.16.2)\n",
      "Requirement already satisfied: lightgbm==4.1.0 in c:\\users\\kuils\\anaconda3\\envs\\env\\lib\\site-packages (4.1.0)\n",
      "Requirement already satisfied: numpy in c:\\users\\kuils\\anaconda3\\envs\\env\\lib\\site-packages (from lightgbm==4.1.0) (1.26.3)\n",
      "Requirement already satisfied: scipy in c:\\users\\kuils\\anaconda3\\envs\\env\\lib\\site-packages (from lightgbm==4.1.0) (1.12.0)\n",
      "Requirement already satisfied: pandas==2.1.4 in c:\\users\\kuils\\anaconda3\\envs\\env\\lib\\site-packages (2.1.4)\n",
      "Requirement already satisfied: numpy<2,>=1.22.4 in c:\\users\\kuils\\anaconda3\\envs\\env\\lib\\site-packages (from pandas==2.1.4) (1.26.3)\n",
      "Requirement already satisfied: python-dateutil>=2.8.2 in c:\\users\\kuils\\anaconda3\\envs\\env\\lib\\site-packages (from pandas==2.1.4) (2.8.2)\n",
      "Requirement already satisfied: pytz>=2020.1 in c:\\users\\kuils\\anaconda3\\envs\\env\\lib\\site-packages (from pandas==2.1.4) (2023.3)\n",
      "Requirement already satisfied: tzdata>=2022.1 in c:\\users\\kuils\\anaconda3\\envs\\env\\lib\\site-packages (from pandas==2.1.4) (2023.3)\n",
      "Requirement already satisfied: six>=1.5 in c:\\users\\kuils\\anaconda3\\envs\\env\\lib\\site-packages (from python-dateutil>=2.8.2->pandas==2.1.4) (1.16.0)\n",
      "Requirement already satisfied: category_encoders==2.6.3 in c:\\users\\kuils\\anaconda3\\envs\\env\\lib\\site-packages (2.6.3)\n",
      "Requirement already satisfied: numpy>=1.14.0 in c:\\users\\kuils\\anaconda3\\envs\\env\\lib\\site-packages (from category_encoders==2.6.3) (1.26.3)\n",
      "Requirement already satisfied: scikit-learn>=0.20.0 in c:\\users\\kuils\\anaconda3\\envs\\env\\lib\\site-packages (from category_encoders==2.6.3) (1.4.0)\n",
      "Requirement already satisfied: scipy>=1.0.0 in c:\\users\\kuils\\anaconda3\\envs\\env\\lib\\site-packages (from category_encoders==2.6.3) (1.12.0)\n",
      "Requirement already satisfied: statsmodels>=0.9.0 in c:\\users\\kuils\\anaconda3\\envs\\env\\lib\\site-packages (from category_encoders==2.6.3) (0.14.1)\n",
      "Requirement already satisfied: pandas>=1.0.5 in c:\\users\\kuils\\anaconda3\\envs\\env\\lib\\site-packages (from category_encoders==2.6.3) (2.1.4)\n",
      "Requirement already satisfied: patsy>=0.5.1 in c:\\users\\kuils\\anaconda3\\envs\\env\\lib\\site-packages (from category_encoders==2.6.3) (0.5.6)\n",
      "Requirement already satisfied: python-dateutil>=2.8.2 in c:\\users\\kuils\\anaconda3\\envs\\env\\lib\\site-packages (from pandas>=1.0.5->category_encoders==2.6.3) (2.8.2)\n",
      "Requirement already satisfied: pytz>=2020.1 in c:\\users\\kuils\\anaconda3\\envs\\env\\lib\\site-packages (from pandas>=1.0.5->category_encoders==2.6.3) (2023.3)\n",
      "Requirement already satisfied: tzdata>=2022.1 in c:\\users\\kuils\\anaconda3\\envs\\env\\lib\\site-packages (from pandas>=1.0.5->category_encoders==2.6.3) (2023.3)\n",
      "Requirement already satisfied: six in c:\\users\\kuils\\anaconda3\\envs\\env\\lib\\site-packages (from patsy>=0.5.1->category_encoders==2.6.3) (1.16.0)\n",
      "Requirement already satisfied: joblib>=1.2.0 in c:\\users\\kuils\\anaconda3\\envs\\env\\lib\\site-packages (from scikit-learn>=0.20.0->category_encoders==2.6.3) (1.3.2)\n",
      "Requirement already satisfied: threadpoolctl>=2.0.0 in c:\\users\\kuils\\anaconda3\\envs\\env\\lib\\site-packages (from scikit-learn>=0.20.0->category_encoders==2.6.3) (3.2.0)\n",
      "Requirement already satisfied: packaging>=21.3 in c:\\users\\kuils\\anaconda3\\envs\\env\\lib\\site-packages (from statsmodels>=0.9.0->category_encoders==2.6.3) (23.1)\n"
     ]
    }
   ],
   "source": [
    "!pip install xgboost==2.0.3\n",
    "!pip install numpy==1.26.3\n",
    "!pip install catboost==1.2\n",
    "!pip install lightgbm==4.1.0\n",
    "!pip install pandas==2.1.4\n",
    "!pip install category_encoders==2.6.3"
   ]
  },
  {
   "attachments": {},
   "cell_type": "markdown",
   "id": "6fed9d58",
   "metadata": {},
   "source": [
    "## **import**"
   ]
  },
  {
   "cell_type": "code",
   "execution_count": 2,
   "id": "727d5b4f",
   "metadata": {
    "ExecuteTime": {
     "end_time": "2024-02-29T08:44:00.992705900Z",
     "start_time": "2024-02-29T08:44:00.950818Z"
    }
   },
   "outputs": [],
   "source": [
    "import pandas as pd\n",
    "import numpy as np\n",
    "import warnings\n",
    "warnings.filterwarnings(\"ignore\", category=FutureWarning)\n",
    "import os\n",
    "from imblearn.combine import SMOTETomek\n",
    "from imblearn.under_sampling import TomekLinks\n",
    "from sklearn.preprocessing import StandardScaler\n",
    "import xgboost as xgb\n",
    "from sklearn.model_selection import train_test_split\n",
    "from category_encoders import TargetEncoder\n",
    "from sklearn.metrics import f1_score\n",
    "from sklearn.metrics import accuracy_score\n",
    "from sklearn.metrics import f1_score\n",
    "import optuna\n",
    "from sklearn.tree import DecisionTreeClassifier\n",
    "from lightgbm import LGBMClassifier\n",
    "from sklearn.metrics import f1_score\n",
    "# XGBoost와 CatBoost 라이브러리를 임포트합니다.\n",
    "import xgboost as xgb\n",
    "import catboost as cb\n",
    "from sklearn.metrics import (\n",
    "    accuracy_score,\n",
    "    confusion_matrix,\n",
    "    f1_score,\n",
    "    precision_score,\n",
    "    recall_score,\n",
    ")\n",
    "os.environ['KMP_DUPLICATE_LIB_OK']='True'"
   ]
  },
  {
   "attachments": {},
   "cell_type": "markdown",
   "id": "2b2afb5a",
   "metadata": {},
   "source": [
    "## **데이터 호출**"
   ]
  },
  {
   "cell_type": "code",
   "execution_count": 3,
   "id": "afccfded",
   "metadata": {
    "ExecuteTime": {
     "end_time": "2024-02-29T08:44:01.920833500Z",
     "start_time": "2024-02-29T08:44:01.682829100Z"
    }
   },
   "outputs": [],
   "source": [
    "train = pd.read_csv(\"train.csv\")\n",
    "test = pd.read_csv(\"submission.csv\")\n",
    "test.drop('id' , axis = 1 , inplace = True)"
   ]
  },
  {
   "attachments": {},
   "cell_type": "markdown",
   "id": "4f5361c1",
   "metadata": {},
   "source": [
    "## **데이터 전처리**"
   ]
  },
  {
   "cell_type": "code",
   "execution_count": 4,
   "id": "14bf689f",
   "metadata": {
    "ExecuteTime": {
     "end_time": "2024-02-29T08:44:04.234759600Z",
     "start_time": "2024-02-29T08:44:04.083164900Z"
    }
   },
   "outputs": [],
   "source": [
    "# 사용하지 않을 column 제외\n",
    "train.drop('customer_country.1',axis = 1 , inplace = True)\n",
    "train.drop('product_modelname',axis = 1 , inplace = True)\n",
    "\n",
    "test.drop('customer_country.1',axis = 1 , inplace = True)\n",
    "test.drop('product_modelname',axis = 1 , inplace = True)\n",
    "\n",
    "# object 타입의 열들은 모든 소문자로 변환\n",
    "for column in train.columns:\n",
    "    if train[column].dtype == 'object': \n",
    "        train[column] = train[column].str.lower()\n",
    "for column in test.columns:\n",
    "    if test[column].dtype == 'object':  \n",
    "        test[column] = test[column].str.lower()"
   ]
  },
  {
   "cell_type": "code",
   "execution_count": 5,
   "id": "a2d8569a",
   "metadata": {
    "ExecuteTime": {
     "end_time": "2024-02-29T08:44:04.466592900Z",
     "start_time": "2024-02-29T08:44:04.413733300Z"
    }
   },
   "outputs": [],
   "source": [
    "# 결측치 처리\n",
    "# 열마다 결측치를 none, 0, other로 치환.\n",
    "none_col = ['customer_country','customer_type','customer_job','product_category','product_subcategory','business_area','business_subarea','expected_timeline']\n",
    "zero_col = ['com_reg_ver_win_rate','historical_existing_cnt','id_strategic_ver','it_strategic_ver','idit_strategic_ver','ver_win_rate_x','ver_win_ratio_per_bu']\n",
    "other_col = ['inquiry_type']\n",
    "\n",
    "for col in none_col:\n",
    "    train[col] = train[col].fillna('none')\n",
    "    test[col] = test[col].fillna('none')\n",
    "    \n",
    "for col in zero_col:\n",
    "    train[col] = train[col].fillna(0)\n",
    "    test[col] = test[col].fillna(0)\n",
    "\n",
    "for col in other_col:\n",
    "    train[col] = train[col].fillna('other')\n",
    "    test[col] = test[col].fillna('other')"
   ]
  },
  {
   "cell_type": "code",
   "execution_count": 6,
   "id": "e814ac16",
   "metadata": {
    "ExecuteTime": {
     "end_time": "2024-02-29T08:44:04.783487Z",
     "start_time": "2024-02-29T08:44:04.756559300Z"
    }
   },
   "outputs": [],
   "source": [
    "# customer_country 열의 데이터 형식을 결측치에도 적용\n",
    "train.loc[train['customer_country'] == 'none', 'customer_country'] = '//none'\n",
    "test.loc[test['customer_country'] == 'none', 'customer_country'] = '//none'"
   ]
  },
  {
   "cell_type": "code",
   "execution_count": 7,
   "id": "a825c8a1",
   "metadata": {
    "ExecuteTime": {
     "end_time": "2024-02-29T08:44:05.182151700Z",
     "start_time": "2024-02-29T08:44:05.162203900Z"
    }
   },
   "outputs": [],
   "source": [
    "obj_col = ['customer_idx', 'customer_type','customer_job', 'inquiry_type','product_category','product_subcategory','product_modelname', 'customer_position','response_corporate','expected_timeline','business_subarea']"
   ]
  },
  {
   "cell_type": "code",
   "execution_count": 8,
   "id": "f8ba38c7",
   "metadata": {
    "ExecuteTime": {
     "end_time": "2024-02-29T08:44:14.880187500Z",
     "start_time": "2024-02-29T08:44:05.474037300Z"
    }
   },
   "outputs": [],
   "source": [
    "# 데이터 타입이 object인 컬럼에 대해서 빈도수를 계산, 빈도수가 10이하인 데이터를 묶음 (특정 값도 같이 묶음)\n",
    "\n",
    "# customer_idx\n",
    "frequency = train['customer_idx'].value_counts()\n",
    "idx_to_replace = frequency[frequency <= 10].index\n",
    "train['customer_idx'] = train['customer_idx'].replace(idx_to_replace, -1)\n",
    "\n",
    "# customer_type\n",
    "train.loc[train['customer_type'] == 'end customer', 'customer_type'] = 'end-customer'\n",
    "train.loc[train['customer_type'] == 'specifier / influencer', 'customer_type'] = 'specifier/ influencer'\n",
    "frequency = train['customer_type'].value_counts()\n",
    "idx_to_replace = frequency[frequency <= 10].index\n",
    "train['customer_type'] = train['customer_type'].replace(idx_to_replace, 'other')\n",
    "\n",
    "# customer_job\n",
    "frequency = train['customer_job'].value_counts()\n",
    "idx_to_replace = frequency[frequency <= 10].index\n",
    "train['customer_job'] = train['customer_job'].replace(idx_to_replace, 'other')\n",
    "\n",
    "# inquiry_type\n",
    "train.loc[train['inquiry_type'] == 'etc.', 'inquiry_type'] = 'other'\n",
    "train.loc[train['inquiry_type'] == 'other_', 'inquiry_type'] = 'other'\n",
    "train.loc[train['inquiry_type'] == 'others', 'inquiry_type'] = 'other'\n",
    "frequency = train['inquiry_type'].value_counts()\n",
    "idx_to_replace = frequency[frequency <= 10].index\n",
    "train['inquiry_type'] = train['inquiry_type'].replace(idx_to_replace, 'other')\n",
    "\n",
    "# product_category\n",
    "train.loc[train['product_category'] == 'etc.', 'product_category'] = 'other'\n",
    "frequency = train['product_category'].value_counts()\n",
    "idx_to_replace = frequency[frequency <= 10].index\n",
    "train['product_category'] = train['product_category'].replace(idx_to_replace, 'other')\n",
    "\n",
    "# product_subcategory\n",
    "frequency = train['product_subcategory'].value_counts()\n",
    "idx_to_replace = frequency[frequency <= 10].index\n",
    "train['product_subcategory'] = train['product_subcategory'].replace(idx_to_replace, 'other')\n",
    "\n",
    "# customer_position\n",
    "train.loc[train['customer_position'] == 'others', 'customer_position'] = 'other'\n",
    "frequency = train['customer_position'].value_counts()\n",
    "idx_to_replace = frequency[frequency <= 10].index\n",
    "train['customer_position'] = train['customer_position'].replace(idx_to_replace, 'other')\n",
    "\n",
    "# response_corporate\n",
    "frequency = train['response_corporate'].value_counts()\n",
    "idx_to_replace = frequency[frequency <= 10].index\n",
    "train['response_corporate'] = train['response_corporate'].replace(idx_to_replace, 'other')\n",
    "\n",
    "# expected_timeline\n",
    "train.loc[train['expected_timeline'] == 'less_than_3_month.', 'expected_timeline'] = 'less than 3 month'\n",
    "train.loc[train['expected_timeline'] == '3_month_~_6_month', 'expected_timeline'] = '3 month ~ 6 month'\n",
    "train.loc[train['expected_timeline'] == '6_month_~_9_month', 'expected_timeline'] = '6 month ~ 9 month'\n",
    "frequency = train['expected_timeline'].value_counts()\n",
    "idx_to_replace = frequency[frequency <= 10].index\n",
    "train['expected_timeline'] = train['expected_timeline'].replace(idx_to_replace, 'other')\n",
    "\n",
    "# business_subarea\n",
    "train.loc[train['business_subarea'] == 'others', 'business_subarea'] = 'other'\n",
    "frequency = train['business_subarea'].value_counts()\n",
    "idx_to_replace = frequency[frequency <= 10].index\n",
    "train['business_subarea'] = train['expected_timeline'].replace(idx_to_replace, 'other')"
   ]
  },
  {
   "cell_type": "code",
   "execution_count": 9,
   "id": "13afcd4a",
   "metadata": {
    "ExecuteTime": {
     "end_time": "2024-02-29T08:44:15.127611500Z",
     "start_time": "2024-02-29T08:44:14.881185600Z"
    }
   },
   "outputs": [],
   "source": [
    "train_unique_values = {\n",
    "    'customer_idx': set(train[train['customer_idx'] != 'other' ]['customer_idx']),\n",
    "    'customer_type': set(train[train['customer_type'] != 'other']['customer_type']),\n",
    "    'customer_job': set(train[train['customer_job'] != 'other']['customer_job']),\n",
    "    'inquiry_type': set(train[train['inquiry_type'] != 'other']['inquiry_type']),\n",
    "    'product_category': set(train[train['product_category'] != 'other']['product_category']),\n",
    "    'product_subcategory': set(train[train['product_subcategory'] != 'other']['product_subcategory']),\n",
    "    'customer_position': set(train[train['customer_position'] != 'other']['customer_position']),\n",
    "    'response_corporate': set(train[train['response_corporate'] != 'other']['response_corporate']),\n",
    "    'expected_timeline': set(train[train['expected_timeline'] != 'other']['expected_timeline']),\n",
    "    'business_subarea': set(train[train['business_subarea'] != 'other']['business_subarea'])\n",
    "}\n",
    "\n",
    "# train에서 other로 처리한 값을 test에도 적용\n",
    "test_replacements = {\n",
    "    'customer_type': {\n",
    "        'end customer': 'end-customer',\n",
    "        'specifier / influencer': 'specifier/ influencer'\n",
    "    },\n",
    "    'inquiry_type': {\n",
    "        'etc.': 'other',\n",
    "        'other_': 'other',\n",
    "        'others': 'other'\n",
    "    },\n",
    "    'product_category': {\n",
    "        'etc.': 'other'\n",
    "    },\n",
    "    'customer_position': {\n",
    "        'others': 'other'\n",
    "    },\n",
    "    'expected_timeline': {\n",
    "        'less_than_3_month.': 'less than 3 month',\n",
    "        '3_month_~_6_month': '3 month ~ 6 month',\n",
    "        '6_month_~_9_month': '6 month ~ 9 month'\n",
    "    },\n",
    "    'business_subarea': {\n",
    "        'others': 'other'\n",
    "    }\n",
    "}\n",
    "\n",
    "# test 데이터셋의 컬럼들에 대해 'other'로 치환할 필요가 있는 값을 치환합니다.\n",
    "for col, replacements in test_replacements.items():\n",
    "    test[col].replace(replacements, inplace=True)\n",
    "\n",
    "# 이제, train 데이터셋에서 'other'로 레이블된 값을 기반으로\n",
    "# test 데이터셋에서 해당하지 않는 값들을 'unknown'로 치환합니다.\n",
    "for col, unique_values in train_unique_values.items():\n",
    "    test[col] = test[col].apply(lambda x: x if x in unique_values else 'unknown')"
   ]
  },
  {
   "cell_type": "code",
   "execution_count": 10,
   "id": "910f2c94",
   "metadata": {
    "ExecuteTime": {
     "end_time": "2024-02-29T08:44:21.959122100Z",
     "start_time": "2024-02-29T08:44:21.823462200Z"
    }
   },
   "outputs": [],
   "source": [
    "# customer_country을 /로 구분 후 공백제거한 country열 생성\n",
    "train['country'] = train['customer_country'].str.split('/').str[-1]\n",
    "test['country'] = test['customer_country'].str.split('/').str[-1]\n",
    "train['country'] = train['country'].str.strip()\n",
    "test['country'] = test['country'].str.strip()"
   ]
  },
  {
   "cell_type": "code",
   "execution_count": 11,
   "id": "da396820",
   "metadata": {
    "ExecuteTime": {
     "end_time": "2024-02-29T08:44:35.130753100Z",
     "start_time": "2024-02-29T08:44:35.033505200Z"
    }
   },
   "outputs": [],
   "source": [
    "# 나라명 표준화 적용\n",
    "country_mapping = {\n",
    "    'u.a.e': 'united arab emirates',\n",
    "    'uae dubai': 'united arab emirates',\n",
    "    ' india': 'india',\n",
    "    'türkiye': 'turkey',\n",
    "    'us': 'united states',\n",
    "    'usa': 'united states',\n",
    "    ' united states' : 'united states',\n",
    "    'u.k': 'united kingdom',\n",
    "    'uk': 'united kingdom',\n",
    "    'brasil': 'brazil',\n",
    "    'ha noi': 'vietnam',\n",
    "    'south korea': 'korea',\n",
    "    'republic of korea': 'korea',\n",
    "    's. korea': 'korea',\n",
    "    'czech': 'czech republic',\n",
    "    'czechia': 'czech republic',\n",
    "    'macau': 'china',\n",
    "    'england': 'united kingdom',\n",
    "    'scotland': 'united kingdom',\n",
    "    'prc': 'china',\n",
    "    'mainland china': 'china',\n",
    "    'france': 'france',\n",
    "    'french': 'france',\n",
    "    'paris': 'france',  # 특정 도시를 나라명으로 매핑\n",
    "    'germany': 'germany',\n",
    "    'deutschland': 'germany',  # 독일의 독일어 명칭\n",
    "    'berlin': 'germany',  # 특정 도시를 나라명으로 매핑\n",
    "    'abu dhabi': 'united arab emirates',  # 특정 도시를 나라명으로 매핑\n",
    "    'dubai': 'united arab emirates',  # 특정 도시를 나라명으로 매핑\n",
    "    '' : 'none'\n",
    "}\n",
    "\n",
    "train['country'] = train['country'].replace(country_mapping)\n",
    "test['country'] = test['country'].replace(country_mapping)"
   ]
  },
  {
   "cell_type": "code",
   "execution_count": 12,
   "id": "d9a1cfc9",
   "metadata": {
    "ExecuteTime": {
     "end_time": "2024-02-29T08:44:36.904896400Z",
     "start_time": "2024-02-29T08:44:35.655094800Z"
    }
   },
   "outputs": [],
   "source": [
    "# country열은 빈도수 3이하인 데이터를 other로 묶음\n",
    "frequency = train['country'].value_counts()\n",
    "idx_to_replace = frequency[frequency <= 3].index\n",
    "train['country'] = train['country'].replace(idx_to_replace, 'other')\n",
    "\n",
    "frequency = test['country'].value_counts()\n",
    "idx_to_replace = frequency[frequency <= 3].index\n",
    "test['country'] = test['country'].replace(idx_to_replace, 'other')"
   ]
  },
  {
   "attachments": {},
   "cell_type": "markdown",
   "id": "8e48911c",
   "metadata": {},
   "source": [
    "### **파생변수 생성**"
   ]
  },
  {
   "cell_type": "code",
   "execution_count": 13,
   "id": "b5022979",
   "metadata": {
    "ExecuteTime": {
     "end_time": "2024-02-29T08:44:38.327555100Z",
     "start_time": "2024-02-29T08:44:38.294642700Z"
    }
   },
   "outputs": [],
   "source": [
    "# 'lead_owner' 카테고리별로 'is_converted'의 평균과 갯수를 계산합니다.\n",
    "conversion_rate_and_count_by_lead_owner = train.groupby('lead_owner')['is_converted'].agg(['mean', 'count']).sort_values(by='mean', ascending=False)\n",
    "\n",
    "conversion_dict = conversion_rate_and_count_by_lead_owner['mean'].to_dict()\n",
    "\n",
    "# 이제 'train' 데이터 프레임에 새로운 열 'mean_value'를 추가하고, 'conversion_dict'를 사용하여 값을 매핑합니다.\n",
    "train['lead_owner_mean_value'] = train['lead_owner'].map(conversion_dict)\n",
    "test['lead_owner_mean_value'] = test['lead_owner'].map(conversion_dict)"
   ]
  },
  {
   "cell_type": "code",
   "execution_count": 14,
   "id": "35d5ac1d",
   "metadata": {
    "ExecuteTime": {
     "end_time": "2024-02-29T08:44:38.674140Z",
     "start_time": "2024-02-29T08:44:38.612569200Z"
    }
   },
   "outputs": [],
   "source": [
    "# 조건에 따라 새로운 컬럼을 만들기 위한 기준을 설정합니다.\n",
    "conditions = [\n",
    "    ('new_column_90', (conversion_rate_and_count_by_lead_owner['mean'] >= 0.99) & (conversion_rate_and_count_by_lead_owner['count'] >= 5)),\n",
    "    ('new_column_80', (conversion_rate_and_count_by_lead_owner['mean'] < 0.99) & (conversion_rate_and_count_by_lead_owner['mean'] >= 0.8) & (conversion_rate_and_count_by_lead_owner['count'] >= 5)),\n",
    "    ('new_column_50', (conversion_rate_and_count_by_lead_owner['mean'] < 0.8) & (conversion_rate_and_count_by_lead_owner['mean'] >= 0.5) & (conversion_rate_and_count_by_lead_owner['count'] >= 5)),\n",
    "    ('new_column_20', (conversion_rate_and_count_by_lead_owner['mean'] < 0.5) & (conversion_rate_and_count_by_lead_owner['mean'] >= 0.2) & (conversion_rate_and_count_by_lead_owner['count'] >= 5)),\n",
    "    ('new_column_01', (conversion_rate_and_count_by_lead_owner['mean'] <= 0.01) & (conversion_rate_and_count_by_lead_owner['count'] >= 30))\n",
    "]\n",
    "\n",
    "# 각 조건에 따라 새로운 컬럼을 만들고 해당하는 'lead_owner'에 대해 값을 1로 설정합니다.\n",
    "for col_name, condition in conditions:\n",
    "    # 조건을 만족하는 'lead_owner'를 찾습니다.\n",
    "    qualified_lead_owners = conversion_rate_and_count_by_lead_owner[condition].index\n",
    "\n",
    "    # 새로운 컬럼을 생성하고 기본값을 0으로 설정합니다.\n",
    "    train[col_name] = 0\n",
    "    test[col_name] = 0 \n",
    "    \n",
    "    # 조건을 만족하는 'lead_owner'의 행에 대해서만 새로운 컬럼의 값을 1로 설정합니다.\n",
    "    train.loc[train['lead_owner'].isin(qualified_lead_owners), col_name] = 1\n",
    "    test.loc[train['lead_owner'].isin(qualified_lead_owners), col_name] = 1\n"
   ]
  },
  {
   "cell_type": "code",
   "execution_count": 15,
   "id": "1b504b59",
   "metadata": {
    "ExecuteTime": {
     "end_time": "2024-02-29T08:44:38.881681Z",
     "start_time": "2024-02-29T08:44:38.849765900Z"
    }
   },
   "outputs": [],
   "source": [
    "# 'response_corporate' 컬럼을 생성하고 기본값을 0으로 설정합니다.\n",
    "train['response_corporate_high'] = 0\n",
    "test['response_corporate_high'] = 0\n",
    "\n",
    "train['response_corporate_low'] = 0\n",
    "test['response_corporate_low'] = 0\n",
    "\n",
    "# 'lead_owner' 값이 'lgett', 'lgeaf', 'lgehk' 중 하나인 행에 대해서 'response_corporate' 값을 1로 설정합니다.\n",
    "train.loc[train['response_corporate'].isin(['lgett', 'lgeaf', 'lgehk']), 'response_corporate_high'] = 1\n",
    "test.loc[test['response_corporate'].isin(['lgett', 'lgeaf', 'lgehk']), 'response_corporate_high'] = 1\n",
    "\n",
    "# 'lead_owner' 값이 'lgett', 'lgeaf', 'lgehk' 중 하나인 행에 대해서 'response_corporate' 값을 1로 설정합니다.\n",
    "train.loc[train['response_corporate'].isin(['lgeis', 'lgejp', 'lgekr','lgeuk']), 'response_corporate_low'] = 1\n",
    "test.loc[test['response_corporate'].isin(['lgeis', 'lgejp', 'lgekr','lgeuk']), 'response_corporate_low'] = 1"
   ]
  },
  {
   "cell_type": "code",
   "execution_count": 16,
   "id": "745e0c56",
   "metadata": {
    "ExecuteTime": {
     "end_time": "2024-02-29T08:44:39.224882Z",
     "start_time": "2024-02-29T08:44:39.189975200Z"
    }
   },
   "outputs": [],
   "source": [
    "# 'response_corporate' 컬럼을 생성하고 기본값을 0으로 설정합니다.\n",
    "train['country_2'] = 0\n",
    "test['country_2'] = 0\n",
    "\n",
    "train.loc[train['country'].isin(['brazil','colombia','india','philippines','united kingdom']), 'country_2'] = 1\n",
    "test.loc[test['country'].isin(['brazil','colombia','india','philippines','united kingdom']), 'country_2'] = 1"
   ]
  },
  {
   "cell_type": "code",
   "execution_count": 17,
   "id": "f322fbd3",
   "metadata": {
    "ExecuteTime": {
     "end_time": "2024-02-29T08:44:39.537672900Z",
     "start_time": "2024-02-29T08:44:39.516728Z"
    }
   },
   "outputs": [],
   "source": [
    "# 'response_corporate' 컬럼을 생성하고 기본값을 0으로 설정합니다.\n",
    "train['customer_idx_row'] = 0\n",
    "test['customer_idx_row'] = 0\n",
    "\n",
    "train.loc[train['customer_idx'].isin([\n",
    "    47466, 37680, 21321, 4936, 32240, 25309, 19804, 40491,\n",
    "    42067, 37657, 31864, 33773, 37399, 40344, 7195, 18030,\n",
    "    33334, 7810, 33350, 16590, 742, 9624\n",
    "]), 'customer_idx_row'] = 1\n",
    "test.loc[test['customer_idx'].isin([\n",
    "    47466, 37680, 21321, 4936, 32240, 25309, 19804, 40491,\n",
    "    42067, 37657, 31864, 33773, 37399, 40344, 7195, 18030,\n",
    "    33334, 7810, 33350, 16590, 742, 9624\n",
    "]), 'customer_idx_row'] = 1"
   ]
  },
  {
   "cell_type": "code",
   "execution_count": 18,
   "id": "0292ecdb",
   "metadata": {
    "ExecuteTime": {
     "end_time": "2024-02-29T08:44:40.034273100Z",
     "start_time": "2024-02-29T08:44:39.937532200Z"
    }
   },
   "outputs": [],
   "source": [
    "train['ver_win_rate_x_category'] = train['ver_win_rate_x'].astype('object')\n",
    "test['ver_win_rate_x_category'] = test['ver_win_rate_x'].astype('object')\n",
    "\n",
    "\n",
    "\n",
    "train['historical_existing_cnt_category'] = train['historical_existing_cnt']\n",
    "test['historical_existing_cnt_category'] = test['historical_existing_cnt']\n",
    "\n",
    "frequency = train['historical_existing_cnt_category'].value_counts()\n",
    "idx_to_replace = frequency[frequency <= 5].index\n",
    "train['historical_existing_cnt_category'] = train['historical_existing_cnt_category'].replace(idx_to_replace, 'other')\n",
    "train['historical_existing_cnt_category'] = train['historical_existing_cnt_category'].astype('object')\n",
    "\n",
    "\n",
    "train_unique_values = {\n",
    "    'historical_existing_cnt_category': set(train[train['historical_existing_cnt_category'] != 'other']['historical_existing_cnt_category'])\n",
    "}\n",
    "\n",
    "\n",
    "for col, unique_values in train_unique_values.items():\n",
    "    test[col] = test[col].apply(lambda x: x if x in unique_values else 'other')\n"
   ]
  },
  {
   "cell_type": "code",
   "execution_count": 19,
   "id": "c6ea7cfb",
   "metadata": {
    "ExecuteTime": {
     "end_time": "2024-02-29T08:44:40.276480900Z",
     "start_time": "2024-02-29T08:44:40.246561Z"
    }
   },
   "outputs": [],
   "source": [
    "test['lead_owner_mean_value'] = test['lead_owner_mean_value'].fillna(0.0817889) # 평균값 대체"
   ]
  },
  {
   "cell_type": "code",
   "execution_count": 20,
   "id": "c059f6d8",
   "metadata": {
    "ExecuteTime": {
     "end_time": "2024-02-29T08:44:41.442173600Z",
     "start_time": "2024-02-29T08:44:40.612269800Z"
    }
   },
   "outputs": [],
   "source": [
    "train.to_csv('./train_final.csv', index=False)\n",
    "test.to_csv('./test_final.csv', index=False)"
   ]
  },
  {
   "cell_type": "code",
   "execution_count": 21,
   "id": "9b03ac88",
   "metadata": {
    "ExecuteTime": {
     "end_time": "2024-02-29T08:44:41.766279600Z",
     "start_time": "2024-02-29T08:44:41.442173600Z"
    }
   },
   "outputs": [],
   "source": [
    "train = pd.read_csv(\"./train_final.csv\")\n",
    "train.drop(['customer_country'], axis= 1 , inplace = True)\n",
    "train['lead_owner'] = train['lead_owner'].astype('object')\n",
    "\n",
    "test = pd.read_csv(\"./test_final.csv\")\n",
    "test.drop(['customer_country'], axis= 1 , inplace = True)\n",
    "test['lead_owner'] = test['lead_owner'].astype('object')"
   ]
  },
  {
   "attachments": {},
   "cell_type": "markdown",
   "id": "ef06b03f",
   "metadata": {},
   "source": [
    "### **타겟 인코딩**"
   ]
  },
  {
   "cell_type": "code",
   "execution_count": 22,
   "id": "245c89d2",
   "metadata": {
    "ExecuteTime": {
     "end_time": "2024-02-29T08:44:42.277082300Z",
     "start_time": "2024-02-29T08:44:42.187322800Z"
    }
   },
   "outputs": [],
   "source": [
    "# 타겟인코딩할 컬럼들을 category로 타입변환\n",
    "columns_to_encode = ['country','lead_owner', 'business_unit', 'customer_idx', 'customer_type', 'enterprise',\n",
    "                     'customer_job', 'inquiry_type', 'product_category',\n",
    "                     'product_subcategory', 'customer_position', 'response_corporate',\n",
    "                     'expected_timeline', 'business_area', 'business_subarea','ver_win_rate_x_category','historical_existing_cnt_category']\n",
    "\n",
    "for column in columns_to_encode:\n",
    "    train[column] = train[column].astype('category')\n",
    "    test[column] = test[column].astype('category')"
   ]
  },
  {
   "cell_type": "code",
   "execution_count": 23,
   "id": "47f56450",
   "metadata": {
    "ExecuteTime": {
     "end_time": "2024-02-29T08:44:43.054248100Z",
     "start_time": "2024-02-29T08:44:42.608291200Z"
    }
   },
   "outputs": [
    {
     "name": "stdout",
     "output_type": "stream",
     "text": [
      "Train encoded shape: (59299, 39)\n",
      "Test encoded shape: (5271, 39)\n"
     ]
    }
   ],
   "source": [
    "smoothing_value = 1 \n",
    "\n",
    "# 타겟 인코더를 각 컬럼에 적용하기 위한 함수\n",
    "def target_encode(train_df, test_df, columns, target, smoothing):\n",
    "    encoders = {column: TargetEncoder(smoothing=smoothing) for column in columns}\n",
    "    train_encoded = train_df.copy()\n",
    "    test_encoded = test_df.copy()\n",
    "\n",
    "    for column in columns:\n",
    "        # 학습 데이터셋에 대해 fit_transform을 사용하여 타겟 인코딩 적용\n",
    "        train_encoded[column] = encoders[column].fit_transform(train_df[column], target)\n",
    "        # 테스트 데이터셋에 대해 transform을 사용하여 타겟 인코딩 적용\n",
    "        test_encoded[column] = encoders[column].transform(test_df[column])\n",
    "\n",
    "    return train_encoded, test_encoded, encoders\n",
    "\n",
    "# 인코딩할 컬럼 목록\n",
    "columns_to_encode = ['business_unit', 'customer_idx', 'customer_type', 'enterprise',\n",
    "                     'customer_job', 'inquiry_type', 'product_category',\n",
    "                     'product_subcategory', 'customer_position', 'response_corporate',\n",
    "                     'expected_timeline', 'business_area', 'business_subarea','ver_win_rate_x_category']\n",
    "# 타겟 변수\n",
    "target_column = 'is_converted'\n",
    "\n",
    "# train, test 데이터셋에 타겟 인코딩 적용\n",
    "train_encoded, test_encoded, encoders = target_encode(train, test, columns_to_encode, train[target_column], smoothing=smoothing_value)\n",
    "\n",
    "# 결과 확인\n",
    "print(\"Train encoded shape:\", train_encoded.shape)\n",
    "print(\"Test encoded shape:\", test_encoded.shape)\n",
    "\n",
    "train = train_encoded\n",
    "test = test_encoded"
   ]
  },
  {
   "cell_type": "code",
   "execution_count": 24,
   "id": "3bc643b8",
   "metadata": {
    "ExecuteTime": {
     "end_time": "2024-02-29T08:44:43.195867800Z",
     "start_time": "2024-02-29T08:44:43.058238Z"
    }
   },
   "outputs": [
    {
     "name": "stdout",
     "output_type": "stream",
     "text": [
      "Train encoded shape: (59299, 39)\n",
      "Test encoded shape: (5271, 39)\n"
     ]
    }
   ],
   "source": [
    "smoothing_value = 3 \n",
    "\n",
    "# 타겟 인코더를 각 컬럼에 적용하기 위한 함수\n",
    "def target_encode(train_df, test_df, columns, target, smoothing):\n",
    "    encoders = {column: TargetEncoder(smoothing=smoothing) for column in columns}\n",
    "    train_encoded = train_df.copy()\n",
    "    test_encoded = test_df.copy()\n",
    "\n",
    "    for column in columns:\n",
    "        # 학습 데이터셋에 대해 fit_transform을 사용하여 타겟 인코딩 적용\n",
    "        train_encoded[column] = encoders[column].fit_transform(train_df[column], target)\n",
    "        # 테스트 데이터셋에 대해 transform을 사용하여 타겟 인코딩 적용\n",
    "        test_encoded[column] = encoders[column].transform(test_df[column])\n",
    "\n",
    "    return train_encoded, test_encoded, encoders\n",
    "\n",
    "# 인코딩할 컬럼 목록\n",
    "columns_to_encode = ['country','lead_owner','historical_existing_cnt_category']\n",
    "\n",
    "# 타겟 변수\n",
    "target_column = 'is_converted'\n",
    "\n",
    "# train, test 데이터셋에 타겟 인코딩 적용\n",
    "train_encoded, test_encoded, encoders = target_encode(train, test, columns_to_encode, train[target_column], smoothing=smoothing_value)\n",
    "\n",
    "# 결과 확인\n",
    "print(\"Train encoded shape:\", train_encoded.shape)\n",
    "print(\"Test encoded shape:\", test_encoded.shape)\n",
    "\n",
    "train = train_encoded\n",
    "test = test_encoded"
   ]
  },
  {
   "cell_type": "code",
   "execution_count": 25,
   "id": "592ae723",
   "metadata": {
    "ExecuteTime": {
     "end_time": "2024-02-29T08:44:44.014992700Z",
     "start_time": "2024-02-29T08:44:43.983079200Z"
    }
   },
   "outputs": [],
   "source": [
    "# scailing \n",
    "#int형 또는 float형의 컬럼만 선택\n",
    "numeric_columns = ['historical_existing_cnt','lead_desc_length']\n",
    "\n",
    "scaler = StandardScaler()\n",
    "\n",
    "# train 데이터에 대해서 fit과 transform 수행\n",
    "train_scaled = train.copy()\n",
    "train_scaled[numeric_columns] = scaler.fit_transform(train[numeric_columns])\n",
    "\n",
    "# test 데이터에 대해서는 transform만 수행\n",
    "test_scaled = test.copy()\n",
    "test_scaled[numeric_columns] = scaler.transform(test[numeric_columns])\n",
    "\n",
    "train = train_scaled\n",
    "test = test_scaled"
   ]
  },
  {
   "cell_type": "code",
   "execution_count": 26,
   "id": "15b93caa",
   "metadata": {
    "ExecuteTime": {
     "end_time": "2024-02-29T08:44:44.347318200Z",
     "start_time": "2024-02-29T08:44:44.310418100Z"
    }
   },
   "outputs": [],
   "source": [
    "# 파생변수 생성\n",
    "# 조건에 따라 새로운 컬럼에 1을 할당하는 코드\n",
    "train['high_customer_type'] = (train['customer_type'] >= 0.98).astype(int)\n",
    "train['high_customer_idx'] = (train['customer_idx'] >= 0.98).astype(int)\n",
    "train['high_lead_owner'] = (train['lead_owner'] >= 0.98).astype(int)\n",
    "\n",
    "train['low_customer_type'] = (train['customer_type'] <= 0.0001).astype(int)\n",
    "train['low_customer_idx'] = (train['customer_idx'] <= 0.0001).astype(int)\n",
    "train['low_lead_owner'] = (train['lead_owner'] <= 0.0001).astype(int)\n",
    "\n",
    "test['high_customer_type'] = (test['customer_type'] >= 0.98).astype(int)\n",
    "test['high_customer_idx'] = (test['customer_idx'] >= 0.98).astype(int)\n",
    "test['high_lead_owner'] = (test['lead_owner'] >= 0.98).astype(int)\n",
    "\n",
    "test['low_customer_type'] = (test['customer_type'] <= 0.0001).astype(int)\n",
    "test['low_customer_idx'] = (test['customer_idx'] <= 0.0001).astype(int)\n",
    "test['low_lead_owner'] = (test['lead_owner'] <= 0.0001).astype(int)"
   ]
  },
  {
   "cell_type": "code",
   "execution_count": 27,
   "id": "a8dd20b2",
   "metadata": {
    "ExecuteTime": {
     "end_time": "2024-02-29T08:44:45.150301400Z",
     "start_time": "2024-02-29T08:44:45.119383900Z"
    }
   },
   "outputs": [],
   "source": [
    "# 타겟 변수 인코딩\n",
    "train.loc[train['is_converted'] == True, 'is_converted'] = 1\n",
    "train.loc[train['is_converted'] == False, 'is_converted'] = 0\n",
    "\n",
    "train['is_converted'] = train['is_converted'].astype(float)"
   ]
  },
  {
   "attachments": {},
   "cell_type": "markdown",
   "id": "350d05bd",
   "metadata": {},
   "source": [
    "## **데이터 분리**"
   ]
  },
  {
   "cell_type": "code",
   "execution_count": 28,
   "id": "c138a040",
   "metadata": {
    "ExecuteTime": {
     "end_time": "2024-02-29T08:44:46.584473100Z",
     "start_time": "2024-02-29T08:44:46.499700100Z"
    }
   },
   "outputs": [],
   "source": [
    "# X와 Y로 나누기\n",
    "X = train[train.columns.drop('is_converted')]\n",
    "Y = train['is_converted']\n",
    "X_train, X_test, y_train, y_test = train_test_split(X, Y, test_size=0.01, random_state=42, shuffle=True)\n",
    "# 예측에 필요한 데이터 분리\n",
    "x_test = test.drop([\"is_converted\"], axis=1)"
   ]
  },
  {
   "attachments": {},
   "cell_type": "markdown",
   "id": "bf88c8fe",
   "metadata": {},
   "source": [
    "## **데이터 불균형 처리**"
   ]
  },
  {
   "cell_type": "code",
   "execution_count": 29,
   "id": "bd6e5de6",
   "metadata": {
    "ExecuteTime": {
     "end_time": "2024-02-29T08:45:05.984141200Z",
     "start_time": "2024-02-29T08:44:47.558464700Z"
    }
   },
   "outputs": [],
   "source": [
    "smoteto = SMOTETomek(tomek=TomekLinks(sampling_strategy='majority'), random_state=42)\n",
    "X_train, y_train = smoteto.fit_resample(X_train, y_train)"
   ]
  },
  {
   "attachments": {},
   "cell_type": "markdown",
   "id": "89c3c3bb",
   "metadata": {},
   "source": [
    "## **모델 학습**"
   ]
  },
  {
   "cell_type": "code",
   "execution_count": 41,
   "id": "413ba395",
   "metadata": {},
   "outputs": [
    {
     "name": "stderr",
     "output_type": "stream",
     "text": [
      "/home/elicer/.local/lib/python3.10/site-packages/tqdm/auto.py:21: TqdmWarning: IProgress not found. Please update jupyter and ipywidgets. See https://ipywidgets.readthedocs.io/en/stable/user_install.html\n",
      "  from .autonotebook import tqdm as notebook_tqdm\n"
     ]
    }
   ],
   "source": [
    "def objective(trial):\n",
    "\n",
    "    classifier_name = 'XGBoost'\n",
    "    if classifier_name == 'DecisionTree':\n",
    "        param = {\n",
    "            'max_depth': trial.suggest_int('max_depth', 3, 20),\n",
    "            'min_samples_split': trial.suggest_int('min_samples_split', 2, 20),\n",
    "            'min_samples_leaf': trial.suggest_int('min_samples_leaf', 1, 20),\n",
    "            'max_features': trial.suggest_int('max_features', 1, 30)\n",
    "        }\n",
    "        model = DecisionTreeClassifier(**param)\n",
    "    elif classifier_name == 'LGBM':\n",
    "        param = {\n",
    "            'n_estimators': trial.suggest_int('n_estimators', 300, 500),\n",
    "            'learning_rate': trial.suggest_loguniform('learning_rate', 0.01, 0.3),\n",
    "            'num_leaves': trial.suggest_int('num_leaves', 31, 128),\n",
    "            'max_depth': trial.suggest_int('max_depth', 3, 12),\n",
    "        }\n",
    "        model = LGBMClassifier(**param)\n",
    "    elif classifier_name == 'XGBoost':\n",
    "        param = {\n",
    "            'n_estimators': trial.suggest_int('n_estimators', 100, 500),\n",
    "            'learning_rate': trial.suggest_loguniform('learning_rate', 0.01, 0.3),\n",
    "            'max_depth': trial.suggest_int('max_depth', 3, 10),\n",
    "            'min_child_weight': trial.suggest_int('min_child_weight', 1, 10),\n",
    "            'subsample': trial.suggest_float('subsample', 0.5, 1),\n",
    "            'colsample_bytree': trial.suggest_float('colsample_bytree', 0.5, 1),\n",
    "            'random_state' : trial.suggest_int('random_state',42,42),\n",
    "        }\n",
    "        model = xgb.XGBClassifier(**param)\n",
    "    elif classifier_name == 'CatBoost':\n",
    "        param = {\n",
    "            'iterations': trial.suggest_int('iterations', 100, 500),\n",
    "            'learning_rate': trial.suggest_loguniform('learning_rate', 0.01, 0.3),\n",
    "            'depth': trial.suggest_int('depth', 4, 10),\n",
    "            'l2_leaf_reg': trial.suggest_int('l2_leaf_reg', 1, 10),\n",
    "            'border_count': trial.suggest_int('border_count', 1, 255),\n",
    "            'loss_function': 'Logloss',\n",
    "        }\n",
    "        model = cb.CatBoostClassifier(**param, verbose=False)\n",
    "\n",
    "\n",
    "    model.fit(X_train, y_train)\n",
    "    \n",
    "    test_pred = model.predict(x_test)\n",
    "    print(sum(test_pred))\n",
    "    y_pred = model.predict(X_test)\n",
    "    score = f1_score(y_test, y_pred, average='binary')\n",
    "    return score"
   ]
  },
  {
   "cell_type": "code",
   "execution_count": 68,
   "id": "44734ae4",
   "metadata": {},
   "outputs": [
    {
     "name": "stderr",
     "output_type": "stream",
     "text": [
      "[I 2024-02-25 09:44:19,375] A new study created in memory with name: no-name-76b944f8-3df6-4946-ac52-2961d87d1ee9\n",
      "[I 2024-02-25 09:44:22,361] Trial 0 finished with value: 0.8659793814432989 and parameters: {'n_estimators': 250, 'learning_rate': 0.2536999076681772, 'max_depth': 8, 'min_child_weight': 6, 'subsample': 0.5780093202212182, 'colsample_bytree': 0.5779972601681014, 'random_state': 42}. Best is trial 0 with value: 0.8659793814432989.\n"
     ]
    },
    {
     "name": "stdout",
     "output_type": "stream",
     "text": [
      "1889\n"
     ]
    },
    {
     "name": "stderr",
     "output_type": "stream",
     "text": [
      "[I 2024-02-25 09:44:23,488] Trial 1 finished with value: 0.8431372549019608 and parameters: {'n_estimators': 123, 'learning_rate': 0.19030368381735815, 'max_depth': 7, 'min_child_weight': 8, 'subsample': 0.5102922471479012, 'colsample_bytree': 0.9849549260809971, 'random_state': 42}. Best is trial 0 with value: 0.8659793814432989.\n"
     ]
    },
    {
     "name": "stdout",
     "output_type": "stream",
     "text": [
      "1851\n"
     ]
    },
    {
     "name": "stderr",
     "output_type": "stream",
     "text": [
      "[I 2024-02-25 09:44:25,931] Trial 2 finished with value: 0.7731092436974789 and parameters: {'n_estimators': 433, 'learning_rate': 0.020589728197687916, 'max_depth': 4, 'min_child_weight': 2, 'subsample': 0.6521211214797689, 'colsample_bytree': 0.762378215816119, 'random_state': 42}. Best is trial 0 with value: 0.8659793814432989.\n"
     ]
    },
    {
     "name": "stdout",
     "output_type": "stream",
     "text": [
      "2302\n"
     ]
    },
    {
     "name": "stderr",
     "output_type": "stream",
     "text": [
      "[I 2024-02-25 09:44:28,032] Trial 3 finished with value: 0.8113207547169813 and parameters: {'n_estimators': 273, 'learning_rate': 0.02692655251486473, 'max_depth': 7, 'min_child_weight': 2, 'subsample': 0.6460723242676091, 'colsample_bytree': 0.6831809216468459, 'random_state': 42}. Best is trial 0 with value: 0.8659793814432989.\n"
     ]
    },
    {
     "name": "stdout",
     "output_type": "stream",
     "text": [
      "1788\n"
     ]
    },
    {
     "name": "stderr",
     "output_type": "stream",
     "text": [
      "[I 2024-02-25 09:44:29,561] Trial 4 finished with value: 0.8316831683168316 and parameters: {'n_estimators': 282, 'learning_rate': 0.14447746112718687, 'max_depth': 4, 'min_child_weight': 6, 'subsample': 0.7962072844310213, 'colsample_bytree': 0.5232252063599989, 'random_state': 42}. Best is trial 0 with value: 0.8659793814432989.\n"
     ]
    },
    {
     "name": "stdout",
     "output_type": "stream",
     "text": [
      "1731\n"
     ]
    },
    {
     "name": "stderr",
     "output_type": "stream",
     "text": [
      "[I 2024-02-25 09:44:31,304] Trial 5 finished with value: 0.7076923076923077 and parameters: {'n_estimators': 343, 'learning_rate': 0.0178601378893971, 'max_depth': 3, 'min_child_weight': 10, 'subsample': 0.9828160165372797, 'colsample_bytree': 0.9041986740582306, 'random_state': 42}. Best is trial 0 with value: 0.8659793814432989.\n"
     ]
    },
    {
     "name": "stdout",
     "output_type": "stream",
     "text": [
      "2598\n"
     ]
    },
    {
     "name": "stderr",
     "output_type": "stream",
     "text": [
      "[I 2024-02-25 09:44:33,302] Trial 6 finished with value: 0.8108108108108109 and parameters: {'n_estimators': 222, 'learning_rate': 0.013940346079873234, 'max_depth': 8, 'min_child_weight': 5, 'subsample': 0.5610191174223894, 'colsample_bytree': 0.7475884550556351, 'random_state': 42}. Best is trial 0 with value: 0.8659793814432989.\n"
     ]
    },
    {
     "name": "stdout",
     "output_type": "stream",
     "text": [
      "2119\n"
     ]
    },
    {
     "name": "stderr",
     "output_type": "stream",
     "text": [
      "[I 2024-02-25 09:44:34,130] Trial 7 finished with value: 0.8514851485148515 and parameters: {'n_estimators': 113, 'learning_rate': 0.22038218939289875, 'max_depth': 5, 'min_child_weight': 7, 'subsample': 0.6558555380447055, 'colsample_bytree': 0.7600340105889054, 'random_state': 42}. Best is trial 0 with value: 0.8659793814432989.\n"
     ]
    },
    {
     "name": "stdout",
     "output_type": "stream",
     "text": [
      "1786\n"
     ]
    },
    {
     "name": "stderr",
     "output_type": "stream",
     "text": [
      "[I 2024-02-25 09:44:37,289] Trial 8 finished with value: 0.8269230769230769 and parameters: {'n_estimators': 319, 'learning_rate': 0.01875220945578641, 'max_depth': 10, 'min_child_weight': 8, 'subsample': 0.9697494707820946, 'colsample_bytree': 0.9474136752138245, 'random_state': 42}. Best is trial 0 with value: 0.8659793814432989.\n"
     ]
    },
    {
     "name": "stdout",
     "output_type": "stream",
     "text": [
      "1791\n"
     ]
    },
    {
     "name": "stderr",
     "output_type": "stream",
     "text": [
      "[I 2024-02-25 09:44:38,962] Trial 9 finished with value: 0.8400000000000001 and parameters: {'n_estimators': 339, 'learning_rate': 0.22999586428143728, 'max_depth': 3, 'min_child_weight': 2, 'subsample': 0.522613644455269, 'colsample_bytree': 0.6626651653816322, 'random_state': 42}. Best is trial 0 with value: 0.8659793814432989.\n"
     ]
    },
    {
     "name": "stdout",
     "output_type": "stream",
     "text": [
      "1974\n"
     ]
    },
    {
     "name": "stderr",
     "output_type": "stream",
     "text": [
      "[W 2024-02-25 09:44:39,332] Trial 10 failed with parameters: {'n_estimators': 478, 'learning_rate': 0.06690992453172911, 'max_depth': 10, 'min_child_weight': 4, 'subsample': 0.8200442512337781, 'colsample_bytree': 0.5193625999805914, 'random_state': 42} because of the following error: KeyboardInterrupt().\n",
      "Traceback (most recent call last):\n",
      "  File \"/home/elicer/.local/lib/python3.10/site-packages/optuna/study/_optimize.py\", line 200, in _run_trial\n",
      "    value_or_values = func(trial)\n",
      "  File \"/tmp/ipykernel_196/1529646471.py\", line 51, in objective\n",
      "    model.fit(X_train, y_train)\n",
      "  File \"/home/elicer/.local/lib/python3.10/site-packages/xgboost/core.py\", line 730, in inner_f\n",
      "    return func(**kwargs)\n",
      "  File \"/home/elicer/.local/lib/python3.10/site-packages/xgboost/sklearn.py\", line 1519, in fit\n",
      "    self._Booster = train(\n",
      "  File \"/home/elicer/.local/lib/python3.10/site-packages/xgboost/core.py\", line 730, in inner_f\n",
      "    return func(**kwargs)\n",
      "  File \"/home/elicer/.local/lib/python3.10/site-packages/xgboost/training.py\", line 181, in train\n",
      "    bst.update(dtrain, i, obj)\n",
      "  File \"/home/elicer/.local/lib/python3.10/site-packages/xgboost/core.py\", line 2051, in update\n",
      "    _LIB.XGBoosterUpdateOneIter(\n",
      "KeyboardInterrupt\n",
      "[W 2024-02-25 09:44:39,334] Trial 10 failed with value None.\n"
     ]
    },
    {
     "ename": "KeyboardInterrupt",
     "evalue": "",
     "output_type": "error",
     "traceback": [
      "\u001B[0;31m---------------------------------------------------------------------------\u001B[0m",
      "\u001B[0;31mKeyboardInterrupt\u001B[0m                         Traceback (most recent call last)",
      "Cell \u001B[0;32mIn[68], line 4\u001B[0m\n\u001B[1;32m      2\u001B[0m sampler \u001B[38;5;241m=\u001B[39m optuna\u001B[38;5;241m.\u001B[39msamplers\u001B[38;5;241m.\u001B[39mTPESampler(seed\u001B[38;5;241m=\u001B[39m\u001B[38;5;241m42\u001B[39m)\n\u001B[1;32m      3\u001B[0m study \u001B[38;5;241m=\u001B[39m optuna\u001B[38;5;241m.\u001B[39mcreate_study(direction\u001B[38;5;241m=\u001B[39m\u001B[38;5;124m'\u001B[39m\u001B[38;5;124mmaximize\u001B[39m\u001B[38;5;124m'\u001B[39m, sampler\u001B[38;5;241m=\u001B[39msampler)\n\u001B[0;32m----> 4\u001B[0m \u001B[43mstudy\u001B[49m\u001B[38;5;241;43m.\u001B[39;49m\u001B[43moptimize\u001B[49m\u001B[43m(\u001B[49m\u001B[43mobjective\u001B[49m\u001B[43m,\u001B[49m\u001B[43m \u001B[49m\u001B[43mn_trials\u001B[49m\u001B[38;5;241;43m=\u001B[39;49m\u001B[38;5;241;43m100\u001B[39;49m\u001B[43m)\u001B[49m\n\u001B[1;32m      6\u001B[0m \u001B[38;5;66;03m# 최적화 결과 출력\u001B[39;00m\n\u001B[1;32m      7\u001B[0m \u001B[38;5;28mprint\u001B[39m(\u001B[38;5;124m'\u001B[39m\u001B[38;5;124mNumber of finished trials:\u001B[39m\u001B[38;5;124m'\u001B[39m, \u001B[38;5;28mlen\u001B[39m(study\u001B[38;5;241m.\u001B[39mtrials))\n",
      "File \u001B[0;32m~/.local/lib/python3.10/site-packages/optuna/study/study.py:451\u001B[0m, in \u001B[0;36mStudy.optimize\u001B[0;34m(self, func, n_trials, timeout, n_jobs, catch, callbacks, gc_after_trial, show_progress_bar)\u001B[0m\n\u001B[1;32m    348\u001B[0m \u001B[38;5;28;01mdef\u001B[39;00m \u001B[38;5;21moptimize\u001B[39m(\n\u001B[1;32m    349\u001B[0m     \u001B[38;5;28mself\u001B[39m,\n\u001B[1;32m    350\u001B[0m     func: ObjectiveFuncType,\n\u001B[0;32m   (...)\u001B[0m\n\u001B[1;32m    357\u001B[0m     show_progress_bar: \u001B[38;5;28mbool\u001B[39m \u001B[38;5;241m=\u001B[39m \u001B[38;5;28;01mFalse\u001B[39;00m,\n\u001B[1;32m    358\u001B[0m ) \u001B[38;5;241m-\u001B[39m\u001B[38;5;241m>\u001B[39m \u001B[38;5;28;01mNone\u001B[39;00m:\n\u001B[1;32m    359\u001B[0m \u001B[38;5;250m    \u001B[39m\u001B[38;5;124;03m\"\"\"Optimize an objective function.\u001B[39;00m\n\u001B[1;32m    360\u001B[0m \n\u001B[1;32m    361\u001B[0m \u001B[38;5;124;03m    Optimization is done by choosing a suitable set of hyperparameter values from a given\u001B[39;00m\n\u001B[0;32m   (...)\u001B[0m\n\u001B[1;32m    449\u001B[0m \u001B[38;5;124;03m            If nested invocation of this method occurs.\u001B[39;00m\n\u001B[1;32m    450\u001B[0m \u001B[38;5;124;03m    \"\"\"\u001B[39;00m\n\u001B[0;32m--> 451\u001B[0m     \u001B[43m_optimize\u001B[49m\u001B[43m(\u001B[49m\n\u001B[1;32m    452\u001B[0m \u001B[43m        \u001B[49m\u001B[43mstudy\u001B[49m\u001B[38;5;241;43m=\u001B[39;49m\u001B[38;5;28;43mself\u001B[39;49m\u001B[43m,\u001B[49m\n\u001B[1;32m    453\u001B[0m \u001B[43m        \u001B[49m\u001B[43mfunc\u001B[49m\u001B[38;5;241;43m=\u001B[39;49m\u001B[43mfunc\u001B[49m\u001B[43m,\u001B[49m\n\u001B[1;32m    454\u001B[0m \u001B[43m        \u001B[49m\u001B[43mn_trials\u001B[49m\u001B[38;5;241;43m=\u001B[39;49m\u001B[43mn_trials\u001B[49m\u001B[43m,\u001B[49m\n\u001B[1;32m    455\u001B[0m \u001B[43m        \u001B[49m\u001B[43mtimeout\u001B[49m\u001B[38;5;241;43m=\u001B[39;49m\u001B[43mtimeout\u001B[49m\u001B[43m,\u001B[49m\n\u001B[1;32m    456\u001B[0m \u001B[43m        \u001B[49m\u001B[43mn_jobs\u001B[49m\u001B[38;5;241;43m=\u001B[39;49m\u001B[43mn_jobs\u001B[49m\u001B[43m,\u001B[49m\n\u001B[1;32m    457\u001B[0m \u001B[43m        \u001B[49m\u001B[43mcatch\u001B[49m\u001B[38;5;241;43m=\u001B[39;49m\u001B[38;5;28;43mtuple\u001B[39;49m\u001B[43m(\u001B[49m\u001B[43mcatch\u001B[49m\u001B[43m)\u001B[49m\u001B[43m \u001B[49m\u001B[38;5;28;43;01mif\u001B[39;49;00m\u001B[43m \u001B[49m\u001B[38;5;28;43misinstance\u001B[39;49m\u001B[43m(\u001B[49m\u001B[43mcatch\u001B[49m\u001B[43m,\u001B[49m\u001B[43m \u001B[49m\u001B[43mIterable\u001B[49m\u001B[43m)\u001B[49m\u001B[43m \u001B[49m\u001B[38;5;28;43;01melse\u001B[39;49;00m\u001B[43m \u001B[49m\u001B[43m(\u001B[49m\u001B[43mcatch\u001B[49m\u001B[43m,\u001B[49m\u001B[43m)\u001B[49m\u001B[43m,\u001B[49m\n\u001B[1;32m    458\u001B[0m \u001B[43m        \u001B[49m\u001B[43mcallbacks\u001B[49m\u001B[38;5;241;43m=\u001B[39;49m\u001B[43mcallbacks\u001B[49m\u001B[43m,\u001B[49m\n\u001B[1;32m    459\u001B[0m \u001B[43m        \u001B[49m\u001B[43mgc_after_trial\u001B[49m\u001B[38;5;241;43m=\u001B[39;49m\u001B[43mgc_after_trial\u001B[49m\u001B[43m,\u001B[49m\n\u001B[1;32m    460\u001B[0m \u001B[43m        \u001B[49m\u001B[43mshow_progress_bar\u001B[49m\u001B[38;5;241;43m=\u001B[39;49m\u001B[43mshow_progress_bar\u001B[49m\u001B[43m,\u001B[49m\n\u001B[1;32m    461\u001B[0m \u001B[43m    \u001B[49m\u001B[43m)\u001B[49m\n",
      "File \u001B[0;32m~/.local/lib/python3.10/site-packages/optuna/study/_optimize.py:66\u001B[0m, in \u001B[0;36m_optimize\u001B[0;34m(study, func, n_trials, timeout, n_jobs, catch, callbacks, gc_after_trial, show_progress_bar)\u001B[0m\n\u001B[1;32m     64\u001B[0m \u001B[38;5;28;01mtry\u001B[39;00m:\n\u001B[1;32m     65\u001B[0m     \u001B[38;5;28;01mif\u001B[39;00m n_jobs \u001B[38;5;241m==\u001B[39m \u001B[38;5;241m1\u001B[39m:\n\u001B[0;32m---> 66\u001B[0m         \u001B[43m_optimize_sequential\u001B[49m\u001B[43m(\u001B[49m\n\u001B[1;32m     67\u001B[0m \u001B[43m            \u001B[49m\u001B[43mstudy\u001B[49m\u001B[43m,\u001B[49m\n\u001B[1;32m     68\u001B[0m \u001B[43m            \u001B[49m\u001B[43mfunc\u001B[49m\u001B[43m,\u001B[49m\n\u001B[1;32m     69\u001B[0m \u001B[43m            \u001B[49m\u001B[43mn_trials\u001B[49m\u001B[43m,\u001B[49m\n\u001B[1;32m     70\u001B[0m \u001B[43m            \u001B[49m\u001B[43mtimeout\u001B[49m\u001B[43m,\u001B[49m\n\u001B[1;32m     71\u001B[0m \u001B[43m            \u001B[49m\u001B[43mcatch\u001B[49m\u001B[43m,\u001B[49m\n\u001B[1;32m     72\u001B[0m \u001B[43m            \u001B[49m\u001B[43mcallbacks\u001B[49m\u001B[43m,\u001B[49m\n\u001B[1;32m     73\u001B[0m \u001B[43m            \u001B[49m\u001B[43mgc_after_trial\u001B[49m\u001B[43m,\u001B[49m\n\u001B[1;32m     74\u001B[0m \u001B[43m            \u001B[49m\u001B[43mreseed_sampler_rng\u001B[49m\u001B[38;5;241;43m=\u001B[39;49m\u001B[38;5;28;43;01mFalse\u001B[39;49;00m\u001B[43m,\u001B[49m\n\u001B[1;32m     75\u001B[0m \u001B[43m            \u001B[49m\u001B[43mtime_start\u001B[49m\u001B[38;5;241;43m=\u001B[39;49m\u001B[38;5;28;43;01mNone\u001B[39;49;00m\u001B[43m,\u001B[49m\n\u001B[1;32m     76\u001B[0m \u001B[43m            \u001B[49m\u001B[43mprogress_bar\u001B[49m\u001B[38;5;241;43m=\u001B[39;49m\u001B[43mprogress_bar\u001B[49m\u001B[43m,\u001B[49m\n\u001B[1;32m     77\u001B[0m \u001B[43m        \u001B[49m\u001B[43m)\u001B[49m\n\u001B[1;32m     78\u001B[0m     \u001B[38;5;28;01melse\u001B[39;00m:\n\u001B[1;32m     79\u001B[0m         \u001B[38;5;28;01mif\u001B[39;00m n_jobs \u001B[38;5;241m==\u001B[39m \u001B[38;5;241m-\u001B[39m\u001B[38;5;241m1\u001B[39m:\n",
      "File \u001B[0;32m~/.local/lib/python3.10/site-packages/optuna/study/_optimize.py:163\u001B[0m, in \u001B[0;36m_optimize_sequential\u001B[0;34m(study, func, n_trials, timeout, catch, callbacks, gc_after_trial, reseed_sampler_rng, time_start, progress_bar)\u001B[0m\n\u001B[1;32m    160\u001B[0m         \u001B[38;5;28;01mbreak\u001B[39;00m\n\u001B[1;32m    162\u001B[0m \u001B[38;5;28;01mtry\u001B[39;00m:\n\u001B[0;32m--> 163\u001B[0m     frozen_trial \u001B[38;5;241m=\u001B[39m \u001B[43m_run_trial\u001B[49m\u001B[43m(\u001B[49m\u001B[43mstudy\u001B[49m\u001B[43m,\u001B[49m\u001B[43m \u001B[49m\u001B[43mfunc\u001B[49m\u001B[43m,\u001B[49m\u001B[43m \u001B[49m\u001B[43mcatch\u001B[49m\u001B[43m)\u001B[49m\n\u001B[1;32m    164\u001B[0m \u001B[38;5;28;01mfinally\u001B[39;00m:\n\u001B[1;32m    165\u001B[0m     \u001B[38;5;66;03m# The following line mitigates memory problems that can be occurred in some\u001B[39;00m\n\u001B[1;32m    166\u001B[0m     \u001B[38;5;66;03m# environments (e.g., services that use computing containers such as GitHub Actions).\u001B[39;00m\n\u001B[1;32m    167\u001B[0m     \u001B[38;5;66;03m# Please refer to the following PR for further details:\u001B[39;00m\n\u001B[1;32m    168\u001B[0m     \u001B[38;5;66;03m# https://github.com/optuna/optuna/pull/325.\u001B[39;00m\n\u001B[1;32m    169\u001B[0m     \u001B[38;5;28;01mif\u001B[39;00m gc_after_trial:\n",
      "File \u001B[0;32m~/.local/lib/python3.10/site-packages/optuna/study/_optimize.py:251\u001B[0m, in \u001B[0;36m_run_trial\u001B[0;34m(study, func, catch)\u001B[0m\n\u001B[1;32m    244\u001B[0m         \u001B[38;5;28;01massert\u001B[39;00m \u001B[38;5;28;01mFalse\u001B[39;00m, \u001B[38;5;124m\"\u001B[39m\u001B[38;5;124mShould not reach.\u001B[39m\u001B[38;5;124m\"\u001B[39m\n\u001B[1;32m    246\u001B[0m \u001B[38;5;28;01mif\u001B[39;00m (\n\u001B[1;32m    247\u001B[0m     frozen_trial\u001B[38;5;241m.\u001B[39mstate \u001B[38;5;241m==\u001B[39m TrialState\u001B[38;5;241m.\u001B[39mFAIL\n\u001B[1;32m    248\u001B[0m     \u001B[38;5;129;01mand\u001B[39;00m func_err \u001B[38;5;129;01mis\u001B[39;00m \u001B[38;5;129;01mnot\u001B[39;00m \u001B[38;5;28;01mNone\u001B[39;00m\n\u001B[1;32m    249\u001B[0m     \u001B[38;5;129;01mand\u001B[39;00m \u001B[38;5;129;01mnot\u001B[39;00m \u001B[38;5;28misinstance\u001B[39m(func_err, catch)\n\u001B[1;32m    250\u001B[0m ):\n\u001B[0;32m--> 251\u001B[0m     \u001B[38;5;28;01mraise\u001B[39;00m func_err\n\u001B[1;32m    252\u001B[0m \u001B[38;5;28;01mreturn\u001B[39;00m frozen_trial\n",
      "File \u001B[0;32m~/.local/lib/python3.10/site-packages/optuna/study/_optimize.py:200\u001B[0m, in \u001B[0;36m_run_trial\u001B[0;34m(study, func, catch)\u001B[0m\n\u001B[1;32m    198\u001B[0m \u001B[38;5;28;01mwith\u001B[39;00m get_heartbeat_thread(trial\u001B[38;5;241m.\u001B[39m_trial_id, study\u001B[38;5;241m.\u001B[39m_storage):\n\u001B[1;32m    199\u001B[0m     \u001B[38;5;28;01mtry\u001B[39;00m:\n\u001B[0;32m--> 200\u001B[0m         value_or_values \u001B[38;5;241m=\u001B[39m \u001B[43mfunc\u001B[49m\u001B[43m(\u001B[49m\u001B[43mtrial\u001B[49m\u001B[43m)\u001B[49m\n\u001B[1;32m    201\u001B[0m     \u001B[38;5;28;01mexcept\u001B[39;00m exceptions\u001B[38;5;241m.\u001B[39mTrialPruned \u001B[38;5;28;01mas\u001B[39;00m e:\n\u001B[1;32m    202\u001B[0m         \u001B[38;5;66;03m# TODO(mamu): Handle multi-objective cases.\u001B[39;00m\n\u001B[1;32m    203\u001B[0m         state \u001B[38;5;241m=\u001B[39m TrialState\u001B[38;5;241m.\u001B[39mPRUNED\n",
      "Cell \u001B[0;32mIn[67], line 51\u001B[0m, in \u001B[0;36mobjective\u001B[0;34m(trial)\u001B[0m\n\u001B[1;32m     40\u001B[0m     param \u001B[38;5;241m=\u001B[39m {\n\u001B[1;32m     41\u001B[0m         \u001B[38;5;124m'\u001B[39m\u001B[38;5;124miterations\u001B[39m\u001B[38;5;124m'\u001B[39m: trial\u001B[38;5;241m.\u001B[39msuggest_int(\u001B[38;5;124m'\u001B[39m\u001B[38;5;124miterations\u001B[39m\u001B[38;5;124m'\u001B[39m, \u001B[38;5;241m100\u001B[39m, \u001B[38;5;241m500\u001B[39m),\n\u001B[1;32m     42\u001B[0m         \u001B[38;5;124m'\u001B[39m\u001B[38;5;124mlearning_rate\u001B[39m\u001B[38;5;124m'\u001B[39m: trial\u001B[38;5;241m.\u001B[39msuggest_loguniform(\u001B[38;5;124m'\u001B[39m\u001B[38;5;124mlearning_rate\u001B[39m\u001B[38;5;124m'\u001B[39m, \u001B[38;5;241m0.01\u001B[39m, \u001B[38;5;241m0.3\u001B[39m),\n\u001B[0;32m   (...)\u001B[0m\n\u001B[1;32m     46\u001B[0m         \u001B[38;5;124m'\u001B[39m\u001B[38;5;124mloss_function\u001B[39m\u001B[38;5;124m'\u001B[39m: \u001B[38;5;124m'\u001B[39m\u001B[38;5;124mLogloss\u001B[39m\u001B[38;5;124m'\u001B[39m,\n\u001B[1;32m     47\u001B[0m     }\n\u001B[1;32m     48\u001B[0m     model \u001B[38;5;241m=\u001B[39m cb\u001B[38;5;241m.\u001B[39mCatBoostClassifier(\u001B[38;5;241m*\u001B[39m\u001B[38;5;241m*\u001B[39mparam, verbose\u001B[38;5;241m=\u001B[39m\u001B[38;5;28;01mFalse\u001B[39;00m)\n\u001B[0;32m---> 51\u001B[0m \u001B[43mmodel\u001B[49m\u001B[38;5;241;43m.\u001B[39;49m\u001B[43mfit\u001B[49m\u001B[43m(\u001B[49m\u001B[43mX_train\u001B[49m\u001B[43m,\u001B[49m\u001B[43m \u001B[49m\u001B[43my_train\u001B[49m\u001B[43m)\u001B[49m\n\u001B[1;32m     53\u001B[0m test_pred \u001B[38;5;241m=\u001B[39m model\u001B[38;5;241m.\u001B[39mpredict(x_test)\n\u001B[1;32m     54\u001B[0m \u001B[38;5;28mprint\u001B[39m(\u001B[38;5;28msum\u001B[39m(test_pred))\n",
      "File \u001B[0;32m~/.local/lib/python3.10/site-packages/xgboost/core.py:730\u001B[0m, in \u001B[0;36mrequire_keyword_args.<locals>.throw_if.<locals>.inner_f\u001B[0;34m(*args, **kwargs)\u001B[0m\n\u001B[1;32m    728\u001B[0m \u001B[38;5;28;01mfor\u001B[39;00m k, arg \u001B[38;5;129;01min\u001B[39;00m \u001B[38;5;28mzip\u001B[39m(sig\u001B[38;5;241m.\u001B[39mparameters, args):\n\u001B[1;32m    729\u001B[0m     kwargs[k] \u001B[38;5;241m=\u001B[39m arg\n\u001B[0;32m--> 730\u001B[0m \u001B[38;5;28;01mreturn\u001B[39;00m \u001B[43mfunc\u001B[49m\u001B[43m(\u001B[49m\u001B[38;5;241;43m*\u001B[39;49m\u001B[38;5;241;43m*\u001B[39;49m\u001B[43mkwargs\u001B[49m\u001B[43m)\u001B[49m\n",
      "File \u001B[0;32m~/.local/lib/python3.10/site-packages/xgboost/sklearn.py:1519\u001B[0m, in \u001B[0;36mXGBClassifier.fit\u001B[0;34m(self, X, y, sample_weight, base_margin, eval_set, eval_metric, early_stopping_rounds, verbose, xgb_model, sample_weight_eval_set, base_margin_eval_set, feature_weights, callbacks)\u001B[0m\n\u001B[1;32m   1491\u001B[0m (\n\u001B[1;32m   1492\u001B[0m     model,\n\u001B[1;32m   1493\u001B[0m     metric,\n\u001B[0;32m   (...)\u001B[0m\n\u001B[1;32m   1498\u001B[0m     xgb_model, eval_metric, params, early_stopping_rounds, callbacks\n\u001B[1;32m   1499\u001B[0m )\n\u001B[1;32m   1500\u001B[0m train_dmatrix, evals \u001B[38;5;241m=\u001B[39m _wrap_evaluation_matrices(\n\u001B[1;32m   1501\u001B[0m     missing\u001B[38;5;241m=\u001B[39m\u001B[38;5;28mself\u001B[39m\u001B[38;5;241m.\u001B[39mmissing,\n\u001B[1;32m   1502\u001B[0m     X\u001B[38;5;241m=\u001B[39mX,\n\u001B[0;32m   (...)\u001B[0m\n\u001B[1;32m   1516\u001B[0m     feature_types\u001B[38;5;241m=\u001B[39m\u001B[38;5;28mself\u001B[39m\u001B[38;5;241m.\u001B[39mfeature_types,\n\u001B[1;32m   1517\u001B[0m )\n\u001B[0;32m-> 1519\u001B[0m \u001B[38;5;28mself\u001B[39m\u001B[38;5;241m.\u001B[39m_Booster \u001B[38;5;241m=\u001B[39m \u001B[43mtrain\u001B[49m\u001B[43m(\u001B[49m\n\u001B[1;32m   1520\u001B[0m \u001B[43m    \u001B[49m\u001B[43mparams\u001B[49m\u001B[43m,\u001B[49m\n\u001B[1;32m   1521\u001B[0m \u001B[43m    \u001B[49m\u001B[43mtrain_dmatrix\u001B[49m\u001B[43m,\u001B[49m\n\u001B[1;32m   1522\u001B[0m \u001B[43m    \u001B[49m\u001B[38;5;28;43mself\u001B[39;49m\u001B[38;5;241;43m.\u001B[39;49m\u001B[43mget_num_boosting_rounds\u001B[49m\u001B[43m(\u001B[49m\u001B[43m)\u001B[49m\u001B[43m,\u001B[49m\n\u001B[1;32m   1523\u001B[0m \u001B[43m    \u001B[49m\u001B[43mevals\u001B[49m\u001B[38;5;241;43m=\u001B[39;49m\u001B[43mevals\u001B[49m\u001B[43m,\u001B[49m\n\u001B[1;32m   1524\u001B[0m \u001B[43m    \u001B[49m\u001B[43mearly_stopping_rounds\u001B[49m\u001B[38;5;241;43m=\u001B[39;49m\u001B[43mearly_stopping_rounds\u001B[49m\u001B[43m,\u001B[49m\n\u001B[1;32m   1525\u001B[0m \u001B[43m    \u001B[49m\u001B[43mevals_result\u001B[49m\u001B[38;5;241;43m=\u001B[39;49m\u001B[43mevals_result\u001B[49m\u001B[43m,\u001B[49m\n\u001B[1;32m   1526\u001B[0m \u001B[43m    \u001B[49m\u001B[43mobj\u001B[49m\u001B[38;5;241;43m=\u001B[39;49m\u001B[43mobj\u001B[49m\u001B[43m,\u001B[49m\n\u001B[1;32m   1527\u001B[0m \u001B[43m    \u001B[49m\u001B[43mcustom_metric\u001B[49m\u001B[38;5;241;43m=\u001B[39;49m\u001B[43mmetric\u001B[49m\u001B[43m,\u001B[49m\n\u001B[1;32m   1528\u001B[0m \u001B[43m    \u001B[49m\u001B[43mverbose_eval\u001B[49m\u001B[38;5;241;43m=\u001B[39;49m\u001B[43mverbose\u001B[49m\u001B[43m,\u001B[49m\n\u001B[1;32m   1529\u001B[0m \u001B[43m    \u001B[49m\u001B[43mxgb_model\u001B[49m\u001B[38;5;241;43m=\u001B[39;49m\u001B[43mmodel\u001B[49m\u001B[43m,\u001B[49m\n\u001B[1;32m   1530\u001B[0m \u001B[43m    \u001B[49m\u001B[43mcallbacks\u001B[49m\u001B[38;5;241;43m=\u001B[39;49m\u001B[43mcallbacks\u001B[49m\u001B[43m,\u001B[49m\n\u001B[1;32m   1531\u001B[0m \u001B[43m\u001B[49m\u001B[43m)\u001B[49m\n\u001B[1;32m   1533\u001B[0m \u001B[38;5;28;01mif\u001B[39;00m \u001B[38;5;129;01mnot\u001B[39;00m \u001B[38;5;28mcallable\u001B[39m(\u001B[38;5;28mself\u001B[39m\u001B[38;5;241m.\u001B[39mobjective):\n\u001B[1;32m   1534\u001B[0m     \u001B[38;5;28mself\u001B[39m\u001B[38;5;241m.\u001B[39mobjective \u001B[38;5;241m=\u001B[39m params[\u001B[38;5;124m\"\u001B[39m\u001B[38;5;124mobjective\u001B[39m\u001B[38;5;124m\"\u001B[39m]\n",
      "File \u001B[0;32m~/.local/lib/python3.10/site-packages/xgboost/core.py:730\u001B[0m, in \u001B[0;36mrequire_keyword_args.<locals>.throw_if.<locals>.inner_f\u001B[0;34m(*args, **kwargs)\u001B[0m\n\u001B[1;32m    728\u001B[0m \u001B[38;5;28;01mfor\u001B[39;00m k, arg \u001B[38;5;129;01min\u001B[39;00m \u001B[38;5;28mzip\u001B[39m(sig\u001B[38;5;241m.\u001B[39mparameters, args):\n\u001B[1;32m    729\u001B[0m     kwargs[k] \u001B[38;5;241m=\u001B[39m arg\n\u001B[0;32m--> 730\u001B[0m \u001B[38;5;28;01mreturn\u001B[39;00m \u001B[43mfunc\u001B[49m\u001B[43m(\u001B[49m\u001B[38;5;241;43m*\u001B[39;49m\u001B[38;5;241;43m*\u001B[39;49m\u001B[43mkwargs\u001B[49m\u001B[43m)\u001B[49m\n",
      "File \u001B[0;32m~/.local/lib/python3.10/site-packages/xgboost/training.py:181\u001B[0m, in \u001B[0;36mtrain\u001B[0;34m(params, dtrain, num_boost_round, evals, obj, feval, maximize, early_stopping_rounds, evals_result, verbose_eval, xgb_model, callbacks, custom_metric)\u001B[0m\n\u001B[1;32m    179\u001B[0m \u001B[38;5;28;01mif\u001B[39;00m cb_container\u001B[38;5;241m.\u001B[39mbefore_iteration(bst, i, dtrain, evals):\n\u001B[1;32m    180\u001B[0m     \u001B[38;5;28;01mbreak\u001B[39;00m\n\u001B[0;32m--> 181\u001B[0m \u001B[43mbst\u001B[49m\u001B[38;5;241;43m.\u001B[39;49m\u001B[43mupdate\u001B[49m\u001B[43m(\u001B[49m\u001B[43mdtrain\u001B[49m\u001B[43m,\u001B[49m\u001B[43m \u001B[49m\u001B[43mi\u001B[49m\u001B[43m,\u001B[49m\u001B[43m \u001B[49m\u001B[43mobj\u001B[49m\u001B[43m)\u001B[49m\n\u001B[1;32m    182\u001B[0m \u001B[38;5;28;01mif\u001B[39;00m cb_container\u001B[38;5;241m.\u001B[39mafter_iteration(bst, i, dtrain, evals):\n\u001B[1;32m    183\u001B[0m     \u001B[38;5;28;01mbreak\u001B[39;00m\n",
      "File \u001B[0;32m~/.local/lib/python3.10/site-packages/xgboost/core.py:2051\u001B[0m, in \u001B[0;36mBooster.update\u001B[0;34m(self, dtrain, iteration, fobj)\u001B[0m\n\u001B[1;32m   2047\u001B[0m \u001B[38;5;28mself\u001B[39m\u001B[38;5;241m.\u001B[39m_assign_dmatrix_features(dtrain)\n\u001B[1;32m   2049\u001B[0m \u001B[38;5;28;01mif\u001B[39;00m fobj \u001B[38;5;129;01mis\u001B[39;00m \u001B[38;5;28;01mNone\u001B[39;00m:\n\u001B[1;32m   2050\u001B[0m     _check_call(\n\u001B[0;32m-> 2051\u001B[0m         \u001B[43m_LIB\u001B[49m\u001B[38;5;241;43m.\u001B[39;49m\u001B[43mXGBoosterUpdateOneIter\u001B[49m\u001B[43m(\u001B[49m\n\u001B[1;32m   2052\u001B[0m \u001B[43m            \u001B[49m\u001B[38;5;28;43mself\u001B[39;49m\u001B[38;5;241;43m.\u001B[39;49m\u001B[43mhandle\u001B[49m\u001B[43m,\u001B[49m\u001B[43m \u001B[49m\u001B[43mctypes\u001B[49m\u001B[38;5;241;43m.\u001B[39;49m\u001B[43mc_int\u001B[49m\u001B[43m(\u001B[49m\u001B[43miteration\u001B[49m\u001B[43m)\u001B[49m\u001B[43m,\u001B[49m\u001B[43m \u001B[49m\u001B[43mdtrain\u001B[49m\u001B[38;5;241;43m.\u001B[39;49m\u001B[43mhandle\u001B[49m\n\u001B[1;32m   2053\u001B[0m \u001B[43m        \u001B[49m\u001B[43m)\u001B[49m\n\u001B[1;32m   2054\u001B[0m     )\n\u001B[1;32m   2055\u001B[0m \u001B[38;5;28;01melse\u001B[39;00m:\n\u001B[1;32m   2056\u001B[0m     pred \u001B[38;5;241m=\u001B[39m \u001B[38;5;28mself\u001B[39m\u001B[38;5;241m.\u001B[39mpredict(dtrain, output_margin\u001B[38;5;241m=\u001B[39m\u001B[38;5;28;01mTrue\u001B[39;00m, training\u001B[38;5;241m=\u001B[39m\u001B[38;5;28;01mTrue\u001B[39;00m)\n",
      "\u001B[0;31mKeyboardInterrupt\u001B[0m: "
     ]
    }
   ],
   "source": [
    "# Optuna Study 생성 및 최적화\n",
    "sampler = optuna.samplers.TPESampler(seed=42)\n",
    "study = optuna.create_study(direction='maximize', sampler=sampler)\n",
    "study.optimize(objective, n_trials=100)\n",
    "\n",
    "# 최적화 결과 출력\n",
    "print('Number of finished trials:', len(study.trials))\n",
    "print('Best trial:', study.best_trial.params)"
   ]
  },
  {
   "attachments": {},
   "cell_type": "markdown",
   "id": "42d1edaa",
   "metadata": {},
   "source": [
    "## **모델 추론**"
   ]
  },
  {
   "cell_type": "code",
   "execution_count": 30,
   "id": "9bd8e003",
   "metadata": {
    "ExecuteTime": {
     "end_time": "2024-02-29T08:45:07.450822900Z",
     "start_time": "2024-02-29T08:45:05.985138300Z"
    }
   },
   "outputs": [
    {
     "name": "stdout",
     "output_type": "stream",
     "text": [
      "2196\n",
      "XGB Accuracy: 0.9612141652613828\n",
      "0.7927927927927927\n"
     ]
    }
   ],
   "source": [
    "model_xgb = xgb.XGBClassifier(random_state=42,\n",
    "                              max_depth=4,\n",
    "                              n_estimators=300,\n",
    "                              learning_rate= 0.040589728197687916,\n",
    "                              min_child_weight = 2,\n",
    "                              subsample = 0.6521211214797689,\n",
    "                              colsample_bytree = 0.762378215816119)\n",
    "                              \n",
    "              \n",
    "model_xgb.fit(X_train, y_train)\n",
    "\n",
    "\n",
    "test_pred = model_xgb.predict(x_test)\n",
    "print(sum(test_pred))  # True로 예측된 개수\n",
    "\n",
    "y_pred_xgb = model_xgb.predict(X_test)\n",
    "# 정확도 및 F1 점수 계산\n",
    "accuracy_xgb = accuracy_score(y_test, y_pred_xgb)\n",
    "\n",
    "print(f\"XGB Accuracy: {accuracy_xgb}\")\n",
    "print(f1_score(y_test, y_pred_xgb, average='binary'))"
   ]
  },
  {
   "cell_type": "code",
   "execution_count": 31,
   "id": "a680f9a7",
   "metadata": {
    "ExecuteTime": {
     "end_time": "2024-02-29T08:45:18.964389300Z",
     "start_time": "2024-02-29T08:45:11.457253Z"
    }
   },
   "outputs": [
    {
     "name": "stdout",
     "output_type": "stream",
     "text": [
      "2135\n",
      "XGB Accuracy: 0.9645868465430016\n",
      "0.8108108108108109\n"
     ]
    }
   ],
   "source": [
    "model_xgb_2 = xgb.XGBClassifier(random_state=42,\n",
    "                              max_depth=8,\n",
    "                              n_estimators=222,\n",
    "                              learning_rate= 0.013940346079873234,\n",
    "                              min_child_weight = 5,\n",
    "                              subsample = 0.5610191174223894,\n",
    "                              colsample_bytree = 0.7475884550556351)\n",
    "                              \n",
    "              \n",
    "model_xgb_2.fit(X_train, y_train)\n",
    "\n",
    "\n",
    "test_pred_2 = model_xgb_2.predict(x_test)\n",
    "print(sum(test_pred_2))  # True로 예측된 개수\n",
    "\n",
    "y_pred_xgb_2 = model_xgb_2.predict(X_test)\n",
    "# 정확도 및 F1 점수 계산\n",
    "accuracy_xgb_2 = accuracy_score(y_test, y_pred_xgb_2)\n",
    "\n",
    "print(f\"XGB Accuracy: {accuracy_xgb_2}\")\n",
    "print(f1_score(y_test, y_pred_xgb_2, average='binary'))"
   ]
  },
  {
   "cell_type": "code",
   "execution_count": 32,
   "id": "a702b552",
   "metadata": {
    "ExecuteTime": {
     "end_time": "2024-02-29T08:45:34.165035300Z",
     "start_time": "2024-02-29T08:45:34.103201800Z"
    }
   },
   "outputs": [
    {
     "name": "stdout",
     "output_type": "stream",
     "text": [
      "2135\n",
      "1636\n"
     ]
    }
   ],
   "source": [
    "proba_xgb = model_xgb_2.predict_proba(x_test)[:, 1]\n",
    "xgb_result1 = np.where(proba_xgb >= 0.64, 1, 0)\n",
    "\n",
    "print(test_pred_2.sum())\n",
    "print(xgb_result1.sum())"
   ]
  },
  {
   "cell_type": "code",
   "execution_count": 33,
   "id": "067d9021",
   "metadata": {
    "ExecuteTime": {
     "end_time": "2024-02-29T08:45:35.491487800Z",
     "start_time": "2024-02-29T08:45:35.469546700Z"
    }
   },
   "outputs": [],
   "source": [
    "test_pred[(xgb_result1 == 1) & (test_pred == False)] = True"
   ]
  },
  {
   "cell_type": "code",
   "execution_count": 34,
   "id": "567f45a2",
   "metadata": {
    "ExecuteTime": {
     "end_time": "2024-02-29T08:45:35.797486100Z",
     "start_time": "2024-02-29T08:45:35.775545600Z"
    }
   },
   "outputs": [
    {
     "name": "stdout",
     "output_type": "stream",
     "text": [
      "2204\n"
     ]
    }
   ],
   "source": [
    "print((test_pred).sum())"
   ]
  },
  {
   "cell_type": "code",
   "execution_count": 60,
   "id": "f72bebe9",
   "metadata": {},
   "outputs": [],
   "source": [
    "# 1을 True로, 0을 False로 변환\n",
    "test_pred = test_pred.astype(bool)"
   ]
  },
  {
   "cell_type": "code",
   "execution_count": 61,
   "id": "4b96dafe",
   "metadata": {},
   "outputs": [],
   "source": [
    "# 제출 데이터 생성\n",
    "df_sub = pd.read_csv(\"submission.csv\")\n",
    "df_sub[\"is_converted\"] = test_pred\n",
    "df_sub.to_csv(\"submission_test.csv\", index=False)"
   ]
  }
 ],
 "metadata": {
  "kernelspec": {
   "display_name": "Python 3 (ipykernel)",
   "language": "python",
   "name": "python3"
  },
  "language_info": {
   "codemirror_mode": {
    "name": "ipython",
    "version": 3
   },
   "file_extension": ".py",
   "mimetype": "text/x-python",
   "name": "python",
   "nbconvert_exporter": "python",
   "pygments_lexer": "ipython3",
   "version": "3.9.17"
  }
 },
 "nbformat": 4,
 "nbformat_minor": 5
}
